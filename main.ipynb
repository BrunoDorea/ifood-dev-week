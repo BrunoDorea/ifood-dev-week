{
 "cells": [
  {
   "attachments": {},
   "cell_type": "markdown",
   "metadata": {},
   "source": [
    "# Dia 1: Conheça o Google Colab e o Projeto Desta Dev Week\n",
    "\n",
    "Vamos mergulhar no Google Colab, aprendendo como ele pode ser usado para automatizar tarefas cotidianas, principalmente através da manipulação de planilhas. Além disso, você aprenderá na prática o conceito do Net Promoter Score (NPS), uma métrica fundamental para entender a satisfação do cliente."
   ]
  },
  {
   "cell_type": "code",
   "execution_count": null,
   "metadata": {},
   "outputs": [],
   "source": [
    "# TODO: 1 - Implementar a lógica de NPS em comandos simples e sequenciais (imperativo)\n",
    "import pandas as pd\n",
    "\n",
    "dados = pd.read_csv('feedbacks.csv', delimiter=';')\n",
    "\n",
    "detratores = 0\n",
    "promotores = 0\n",
    "\n",
    "notas = dados['nota']\n",
    "\n",
    "for nota in notas:\n",
    "    if nota >= 9:\n",
    "        promotores += 1\n",
    "    elif nota <= 6:\n",
    "        detratores += 1\n",
    "\n",
    "nps = (promotores - detratores) / len(notas) * 100\n",
    "print(nps)\n"
   ]
  },
  {
   "cell_type": "code",
   "execution_count": null,
   "metadata": {},
   "outputs": [],
   "source": [
    "#TODO: 2 - Evoluir a implementação para separar melhor as responsabilidades (funcional)\n",
    "import pandas as pd\n",
    "\n",
    "def calcular_nps(notas):\n",
    "    detratores = 0\n",
    "    promotores = 0\n",
    "\n",
    "    for nota in notas:\n",
    "        if nota >= 9:\n",
    "            promotores += 1\n",
    "        elif nota <= 6:\n",
    "            detratores += 1\n",
    "\n",
    "    nps = (promotores - detratores) / len(notas) * 100\n",
    "    return nps\n",
    "\n",
    "dados = pd.read_csv('feedbacks.csv', delimiter=';')\n",
    "\n",
    "notas = dados['nota']\n",
    "\n",
    "print(calcular_nps(notas))\n"
   ]
  },
  {
   "cell_type": "code",
   "execution_count": null,
   "metadata": {},
   "outputs": [],
   "source": [
    "#TODO: 3 - Abstrair o problema usando classes e objetos (orientação a objetos)\n",
    "import pandas as pd\n",
    "\n",
    "class Feedback:\n",
    "    def __init__(self, nota, comentario):\n",
    "        self.nota = nota\n",
    "        self.comentario = comentario\n",
    "\n",
    "class AnalisadorFeedback:\n",
    "    def __init__(self, feedbacks):\n",
    "        self.feedbacks = feedbacks\n",
    "\n",
    "    def calcular_nps(self):\n",
    "        detratores = sum([1 for feedback in self.feedbacks if feedback.nota <= 6])\n",
    "        promotores = sum([1 for feedback in self.feedbacks if feedback.nota >= 9])\n",
    "\n",
    "        nps = (promotores - detratores) / len(self.feedbacks) * 100\n",
    "        return nps\n",
    "\n",
    "dados = pd.read_csv('feedbacks.csv', delimiter=';')\n",
    "\n",
    "feedbacks = [ Feedback(linha['nota'], linha['comentario']) for i, linha in dados.iterrows()]\n",
    "\n",
    "analisador = AnalisadorFeedback(feedbacks)\n",
    "nps = analisador.calcular_nps()\n",
    "\n",
    "print(nps)"
   ]
  },
  {
   "attachments": {},
   "cell_type": "markdown",
   "metadata": {},
   "source": [
    "# Dia 2: Desvendando o Poder dos Seus Dados com Python\n",
    "\n",
    "No segundo dia, vamos conectar nosso Google Colab ao Google Drive, extrair dados do NPS e aplicar as técnicas de ETL (Extração, Transformação e Carregamento) nesses dados. Com a ajuda da biblioteca matplotlib, criaremos gráficos para visualizar e compreender o nível de satisfação dos nossos usuários."
   ]
  },
  {
   "attachments": {},
   "cell_type": "markdown",
   "metadata": {},
   "source": [
    "# Dia 3: Decifrando Sentimentos com Inteligência Artificial (IA)\n",
    "\n",
    "No último dia, vamos utilizar as técnicas de Processamento de Linguagem Natural (PLN) para analisar os sentimentos expressos nos comentários associados às notas de NPS. Dessa forma, teremos uma perspectiva qualitativa que complementa nossos dados quantitativos."
   ]
  }
 ],
 "metadata": {
  "kernelspec": {
   "display_name": "Python 3",
   "language": "python",
   "name": "python3"
  },
  "language_info": {
   "codemirror_mode": {
    "name": "ipython",
    "version": 3
   },
   "file_extension": ".py",
   "mimetype": "text/x-python",
   "name": "python",
   "nbconvert_exporter": "python",
   "pygments_lexer": "ipython3",
   "version": "3.11.3"
  },
  "orig_nbformat": 4
 },
 "nbformat": 4,
 "nbformat_minor": 2
}
